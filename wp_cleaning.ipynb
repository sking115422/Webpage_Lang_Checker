{
 "cells": [
  {
   "cell_type": "code",
   "execution_count": 1,
   "metadata": {},
   "outputs": [],
   "source": [
    "from bs4 import BeautifulSoup\n",
    "from langdetect import detect\n",
    "import requests\n",
    "import pandas as pd"
   ]
  },
  {
   "cell_type": "code",
   "execution_count": 2,
   "metadata": {},
   "outputs": [],
   "source": [
    "wp_list = pd.read_csv(\"./top-1m.csv\")"
   ]
  },
  {
   "cell_type": "code",
   "execution_count": 3,
   "metadata": {},
   "outputs": [],
   "source": [
    "wp_list = wp_list[\"domain\"].to_list()"
   ]
  },
  {
   "cell_type": "code",
   "execution_count": 15,
   "metadata": {},
   "outputs": [
    {
     "name": "stdout",
     "output_type": "stream",
     "text": [
      "0\n",
      "1\n",
      "HTTPConnectionPool(host='a-msedge.net', port=80): Max retries exceeded with url: / (Caused by NewConnectionError('<urllib3.connection.HTTPConnection object at 0x0000015D50FB2500>: Failed to establish a new connection: [Errno 11001] getaddrinfo failed'))\n",
      "2\n",
      "3\n",
      "4\n",
      "'lang'\n",
      "5\n",
      "6\n",
      "7\n",
      "8\n",
      "'lang'\n",
      "9\n",
      "HTTPConnectionPool(host='gtld-servers.net', port=80): Max retries exceeded with url: / (Caused by NewConnectionError('<urllib3.connection.HTTPConnection object at 0x0000015D55CF3E80>: Failed to establish a new connection: [Errno 11001] getaddrinfo failed'))\n",
      "10\n",
      "11\n",
      "HTTPConnectionPool(host='akamaiedge.net', port=80): Max retries exceeded with url: / (Caused by NewConnectionError('<urllib3.connection.HTTPConnection object at 0x0000015D56989900>: Failed to establish a new connection: [Errno 11001] getaddrinfo failed'))\n",
      "12\n",
      "'lang'\n",
      "13\n",
      "14\n",
      "'lang'\n",
      "15\n",
      "16\n",
      "17\n",
      "18\n",
      "'lang'\n",
      "19\n",
      "HTTPConnectionPool(host='domaincontrol.com', port=80): Max retries exceeded with url: / (Caused by ConnectTimeoutError(<urllib3.connection.HTTPConnection object at 0x0000015D5131DA20>, 'Connection to domaincontrol.com timed out. (connect timeout=1)'))\n",
      "20\n",
      "21\n",
      "HTTPConnectionPool(host='akamai.net', port=80): Max retries exceeded with url: / (Caused by NewConnectionError('<urllib3.connection.HTTPConnection object at 0x0000015D54816CB0>: Failed to establish a new connection: [Errno 11001] getaddrinfo failed'))\n",
      "22\n",
      "23\n",
      "24\n",
      "25\n",
      "26\n",
      "27\n",
      "28\n",
      "29\n",
      "30\n",
      "31\n",
      "32\n",
      "33\n",
      "34\n",
      "35\n",
      "36\n",
      "HTTPConnectionPool(host='windowsupdate.com', port=80): Max retries exceeded with url: / (Caused by NewConnectionError('<urllib3.connection.HTTPConnection object at 0x0000015D510D4FA0>: Failed to establish a new connection: [Errno 11001] getaddrinfo failed'))\n",
      "37\n",
      "HTTPConnectionPool(host='microsoftonline.com', port=80): Max retries exceeded with url: / (Caused by NewConnectionError('<urllib3.connection.HTTPConnection object at 0x0000015D510D5180>: Failed to establish a new connection: [Errno 11001] getaddrinfo failed'))\n",
      "38\n",
      "39\n",
      "HTTPConnectionPool(host='akadns.net', port=80): Max retries exceeded with url: / (Caused by NewConnectionError('<urllib3.connection.HTTPConnection object at 0x0000015D547E4280>: Failed to establish a new connection: [Errno 11001] getaddrinfo failed'))\n",
      "40\n",
      "HTTPConnectionPool(host='l-msedge.net', port=80): Max retries exceeded with url: / (Caused by NewConnectionError('<urllib3.connection.HTTPConnection object at 0x0000015D547E5390>: Failed to establish a new connection: [Errno 11001] getaddrinfo failed'))\n",
      "41\n",
      "'lang'\n",
      "42\n",
      "43\n",
      "44\n",
      "HTTPConnectionPool(host='nflxso.net', port=80): Max retries exceeded with url: / (Caused by NewConnectionError('<urllib3.connection.HTTPConnection object at 0x0000015D5235A200>: Failed to establish a new connection: [Errno 11001] getaddrinfo failed'))\n",
      "45\n",
      "'NoneType' object is not subscriptable\n",
      "46\n",
      "HTTPConnectionPool(host='trafficmanager.net', port=80): Max retries exceeded with url: / (Caused by NewConnectionError('<urllib3.connection.HTTPConnection object at 0x0000015D5337AD10>: Failed to establish a new connection: [Errno 11001] getaddrinfo failed'))\n",
      "47\n",
      "48\n",
      "49\n",
      "HTTPConnectionPool(host='netflix.net', port=80): Max retries exceeded with url: / (Caused by ConnectTimeoutError(<urllib3.connection.HTTPConnection object at 0x0000015D55BAA1D0>, 'Connection to netflix.net timed out. (connect timeout=1)'))\n",
      "50\n",
      "51\n",
      "52\n",
      "53\n",
      "54\n",
      "'lang'\n",
      "55\n",
      "HTTPConnectionPool(host='s-msedge.net', port=80): Max retries exceeded with url: / (Caused by NewConnectionError('<urllib3.connection.HTTPConnection object at 0x0000015D54866530>: Failed to establish a new connection: [Errno 11001] getaddrinfo failed'))\n",
      "56\n",
      "HTTPConnectionPool(host='t-msedge.net', port=80): Max retries exceeded with url: / (Caused by NewConnectionError('<urllib3.connection.HTTPConnection object at 0x0000015D54866260>: Failed to establish a new connection: [Errno 11001] getaddrinfo failed'))\n",
      "57\n",
      "'lang'\n",
      "58\n",
      "HTTPConnectionPool(host='163.com', port=80): Max retries exceeded with url: / (Caused by ConnectTimeoutError(<urllib3.connection.HTTPConnection object at 0x0000015D54864340>, 'Connection to 163.com timed out. (connect timeout=1)'))\n",
      "59\n",
      "60\n",
      "'lang'\n",
      "61\n",
      "62\n",
      "63\n",
      "HTTPSConnectionPool(host='www.tiktok.com', port=443): Read timed out. (read timeout=1)\n",
      "64\n",
      "'lang'\n",
      "65\n",
      "66\n",
      "67\n",
      "HTTPConnectionPool(host='aaplimg.com', port=80): Max retries exceeded with url: / (Caused by NewConnectionError('<urllib3.connection.HTTPConnection object at 0x0000015D56C32D70>: Failed to establish a new connection: [Errno 11001] getaddrinfo failed'))\n",
      "68\n",
      "'lang'\n",
      "69\n",
      "70\n",
      "71\n",
      "72\n",
      "'lang'\n",
      "73\n",
      "74\n",
      "HTTPConnectionPool(host='cloudapp.net', port=80): Max retries exceeded with url: / (Caused by NewConnectionError('<urllib3.connection.HTTPConnection object at 0x0000015D573DA560>: Failed to establish a new connection: [Errno 11001] getaddrinfo failed'))\n",
      "75\n",
      "HTTPConnectionPool(host='edgekey.net', port=80): Max retries exceeded with url: / (Caused by NewConnectionError('<urllib3.connection.HTTPConnection object at 0x0000015D573DA6B0>: Failed to establish a new connection: [Errno 11001] getaddrinfo failed'))\n",
      "76\n",
      "77\n",
      "'lang'\n",
      "78\n",
      "HTTPConnectionPool(host='apple-dns.net', port=80): Max retries exceeded with url: / (Caused by NewConnectionError('<urllib3.connection.HTTPConnection object at 0x0000015D569BDE70>: Failed to establish a new connection: [Errno 11001] getaddrinfo failed'))\n",
      "79\n",
      "80\n",
      "81\n",
      "82\n",
      "83\n",
      "84\n",
      "HTTPConnectionPool(host='googleusercontent.com', port=80): Max retries exceeded with url: / (Caused by NewConnectionError('<urllib3.connection.HTTPConnection object at 0x0000015D55E084C0>: Failed to establish a new connection: [Errno 11001] getaddrinfo failed'))\n",
      "85\n",
      "86\n",
      "'NoneType' object is not subscriptable\n",
      "87\n",
      "('Connection aborted.', RemoteDisconnected('Remote end closed connection without response'))\n",
      "88\n",
      "89\n",
      "90\n",
      "HTTPConnectionPool(host='macromedia.com', port=80): Max retries exceeded with url: / (Caused by ConnectTimeoutError(<urllib3.connection.HTTPConnection object at 0x0000015D56AB9990>, 'Connection to macromedia.com timed out. (connect timeout=1)'))\n",
      "91\n",
      "92\n",
      "93\n",
      "94\n",
      "95\n",
      "96\n",
      "97\n",
      "HTTPConnectionPool(host='office.net', port=80): Max retries exceeded with url: / (Caused by NewConnectionError('<urllib3.connection.HTTPConnection object at 0x0000015D56B041C0>: Failed to establish a new connection: [Errno 11001] getaddrinfo failed'))\n",
      "98\n",
      "99\n",
      "'lang'\n"
     ]
    }
   ],
   "source": [
    "inc = 0\n",
    "keep = []\n",
    "with open(\"./wp_eng_mast_list.txt\", \"+a\") as f:\n",
    "    for url in wp_list[0:100]:\n",
    "        \n",
    "        print(inc)\n",
    "        inc = inc + 1\n",
    "        \n",
    "        try:\n",
    "            response = requests.get(\"http://\" + url, timeout=1)\n",
    "            soup = BeautifulSoup(response.content, \"html.parser\")\n",
    "            # print(soup.prettify())\n",
    "            if \"en\" in soup.html[\"lang\"].lower():\n",
    "                keep.append(url)\n",
    "                f.write(url + \"\\n\")\n",
    "        \n",
    "        except Exception as e:\n",
    "            print (e)"
   ]
  },
  {
   "cell_type": "code",
   "execution_count": 16,
   "metadata": {},
   "outputs": [],
   "source": [
    "tmp = pd.DataFrame(keep, columns=[\"URL\"])\n",
    "tmp.to_csv(\"./wp_eng_mast_list.csv\")"
   ]
  },
  {
   "cell_type": "code",
   "execution_count": 17,
   "metadata": {},
   "outputs": [
    {
     "data": {
      "text/plain": [
       "56"
      ]
     },
     "execution_count": 17,
     "metadata": {},
     "output_type": "execute_result"
    }
   ],
   "source": [
    "len(keep)"
   ]
  }
 ],
 "metadata": {
  "kernelspec": {
   "display_name": "base",
   "language": "python",
   "name": "python3"
  },
  "language_info": {
   "codemirror_mode": {
    "name": "ipython",
    "version": 3
   },
   "file_extension": ".py",
   "mimetype": "text/x-python",
   "name": "python",
   "nbconvert_exporter": "python",
   "pygments_lexer": "ipython3",
   "version": "3.10.10"
  },
  "orig_nbformat": 4
 },
 "nbformat": 4,
 "nbformat_minor": 2
}
